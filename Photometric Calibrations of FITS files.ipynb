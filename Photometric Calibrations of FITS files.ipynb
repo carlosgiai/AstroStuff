{
 "cells": [
  {
   "cell_type": "code",
   "execution_count": 1,
   "id": "39ff1c5b",
   "metadata": {},
   "outputs": [],
   "source": [
    "import numpy as np\n",
    "import astropy\n",
    "from astropy.io import fits\n",
    "import matplotlib.pyplot as plt\n",
    "import ccdproc as ccd\n",
    "from astropy.coordinates import SkyCoord\n",
    "import astropy.units as u\n",
    "from astropy.wcs import WCS\n",
    "import reproject as r\n",
    "import pandas as pd"
   ]
  },
  {
   "cell_type": "code",
   "execution_count": null,
   "id": "94a8fbf6",
   "metadata": {},
   "outputs": [],
   "source": [
    "import numpy as np\n",
    "from astropy.io import fits\n",
    "from astropy.wcs import WCS\n",
    "\n",
    "input_fits_file = 'HW_12/tekfiles/tek084.fits'\n",
    "output_fits_file = 'HW_12/wcs_updated1.fits'\n",
    "\n",
    "with fits.open(input_fits_file) as hdulist:\n",
    "    header = hdulist[0].header\n",
    "    data = hdulist[0].data\n",
    "\n",
    "    wcs = WCS(naxis=2)\n",
    "\n",
    "    wcs.wcs.crpix = [header['NAXIS1'], header['NAXIS2']\n",
    "    wcs.wcs.ctype = ['RA---TAN', 'DEC--TAN']\n",
    "    header.extend(wcs.to_header(), update=True)\n",
    "\n",
    "    fits.writeto(output_fits_file, data, header, overwrite=True)\n"
   ]
  },
  {
   "cell_type": "code",
   "execution_count": 9,
   "id": "6b91f128",
   "metadata": {},
   "outputs": [
    {
     "name": "stdout",
     "output_type": "stream",
     "text": [
      "Reprojected and saved: /Users/carlosgiai/Downloads/Outputs/_4.fits\n",
      "Reprojected and saved: /Users/carlosgiai/Downloads/Outputs/_5.fits\n",
      "Reprojected and saved: /Users/carlosgiai/Downloads/Outputs/_2.fits\n",
      "Reprojected and saved: /Users/carlosgiai/Downloads/Outputs/_3.fits\n"
     ]
    }
   ],
   "source": [
    "import os\n",
    "import glob\n",
    "from astropy.io import fits\n",
    "from reproject import reproject_interp\n",
    "\n",
    "fiducial_image_path = '/Users/carlosgiai/Downloads/_1.fits'\n",
    "input_images_directory = '/Users/carlosgiai/Downloads/2345fits/'\n",
    "output_directory = '/Users/carlosgiai/Downloads/Outputs'\n",
    "\n",
    "# Create the output directory if it doesn't exist\n",
    "os.makedirs(output_directory, exist_ok=True)\n",
    "\n",
    "with fits.open(fiducial_image_path) as fiducial_hdulist:\n",
    "    fiducial_header = fiducial_hdulist[0].header\n",
    "\n",
    "for input_image_path in glob.glob(os.path.join(input_images_directory, '*.fits')):\n",
    "    # Open the input image\n",
    "    with fits.open(input_image_path) as input_hdulist:\n",
    "        input_data = input_hdulist[0].data\n",
    "\n",
    "        reprojected_data = reproject_interp(input_hdulist, fiducial_header)\n",
    "\n",
    "        output_image_path = os.path.join(output_directory, os.path.basename(input_image_path))\n",
    "        fits.writeto(output_image_path, reprojected_data, fiducial_header, overwrite=True)\n",
    "\n",
    "    print(f'Reprojected and saved: {output_image_path}')\n"
   ]
  },
  {
   "cell_type": "code",
   "execution_count": 12,
   "id": "a91fd739",
   "metadata": {},
   "outputs": [
    {
     "name": "stdout",
     "output_type": "stream",
     "text": [
      "Combined image saved: /Users/carlosgiai/Downloads/combined_image.fits\n"
     ]
    }
   ],
   "source": [
    "import os\n",
    "import glob\n",
    "from astropy.io import fits\n",
    "from ccdproc import CCDData, Combiner\n",
    "\n",
    "def combine_images(input_directory, output_directory):\n",
    "    # Set the output combined image path\n",
    "    output_combined_image_path = os.path.join(output_directory, 'combined_image.fits')\n",
    "\n",
    "    # Create the output directory if it doesn't exist\n",
    "    os.makedirs(output_directory, exist_ok=True)\n",
    "\n",
    "    # Read the images and convert them to CCDData objects\n",
    "    ccd_list = []\n",
    "    for image_path in glob.glob(os.path.join(input_directory, '*.fits')):\n",
    "        with fits.open(image_path) as hdulist:\n",
    "            data = hdulist[0].data\n",
    "            header = hdulist[0].header\n",
    "            ccd = CCDData(data, meta=header, unit='adu')\n",
    "            ccd_list.append(ccd)\n",
    "\n",
    "    # Combine the CCDData objects using the Combiner class\n",
    "    combiner = Combiner(ccd_list)\n",
    "    combined_data = combiner.median_combine()  # You can also use mean_combine, minmax_combine, etc.\n",
    "\n",
    "    # Save the combined image\n",
    "    fits.writeto(output_combined_image_path, combined_data.data, header, overwrite=True)\n",
    "    print(f'Combined image saved: {output_combined_image_path}')\n",
    "\n",
    "# Replace with the path to your input directory and output directory\n",
    "input_directory = '/Users/carlosgiai/Downloads/Outputs'\n",
    "output_directory = '/Users/carlosgiai/Downloads/'\n",
    "\n",
    "combine_images(input_directory, output_directory)\n"
   ]
  },
  {
   "cell_type": "code",
   "execution_count": 41,
   "id": "63e4acb2",
   "metadata": {},
   "outputs": [
    {
     "data": {
      "text/plain": [
       "<bound method NDFrame.keys of            _ra_      _dec_  _searchID_             MatchID     MatchRA  \\\n",
       "0    275.308132  68.436635          93  190122753080484694  275.308133   \n",
       "1    275.309032  68.475427         454  190172753089761157  275.309014   \n",
       "2    275.349839  68.482491         422  190172753496859541  275.349841   \n",
       "3    275.263348  68.481224         417  190172752633168216  275.263366   \n",
       "4    275.241731  68.496377         368  190192752416636352  275.241720   \n",
       "..          ...        ...         ...                 ...         ...   \n",
       "332  275.309032  68.475427         454  190172753079060395  275.307979   \n",
       "333  275.330847  68.508404         302  190212753308941681  275.330714   \n",
       "334  275.288104  68.445060         127  190132752860404469  275.286037   \n",
       "335  275.355535  68.445561         129  190132753543996283  275.354398   \n",
       "336  275.203547  68.508520         266  190212752043840041  275.204385   \n",
       "\n",
       "      MatchDEC  dstArcSec                objName  objAltName1  objAltName2  \\\n",
       "0    68.436633   0.009101  PSO J275.3081+68.4366         -999         -999   \n",
       "1    68.475425   0.025376  PSO J275.3090+68.4754         -999         -999   \n",
       "2    68.482499   0.025533  PSO J275.3498+68.4825         -999         -999   \n",
       "3    68.481228   0.026130  PSO J275.2633+68.4812         -999         -999   \n",
       "4    68.496371   0.026579  PSO J275.2417+68.4964         -999         -999   \n",
       "..         ...        ...                    ...          ...          ...   \n",
       "332  68.474711   2.930461  PSO J275.3080+68.4747         -999         -999   \n",
       "333  68.509218   2.933974  PSO J275.3307+68.5092         -999         -999   \n",
       "334  68.444754   2.946105  PSO J275.2860+68.4448         -999         -999   \n",
       "335  68.446270   2.960903  PSO J275.3544+68.4463         -999         -999   \n",
       "336  68.507746   2.995889  PSO J275.2044+68.5077         -999         -999   \n",
       "\n",
       "     ...  yFmeanflxR6Err  yFmeanflxR6Std  yFmeanflxR6Fill  yFmeanflxR7  \\\n",
       "0    ...        0.000032        0.000101         0.966245     0.000051   \n",
       "1    ...        0.000038        0.000067         0.969854    -0.000028   \n",
       "2    ...        0.000028        0.000082         0.998664     0.000017   \n",
       "3    ...        0.000032        0.000138         0.994803     0.001631   \n",
       "4    ...        0.000028        0.000076         0.960085    -0.000038   \n",
       "..   ...             ...             ...              ...          ...   \n",
       "332  ...        0.000029        0.000054         1.002590     0.000088   \n",
       "333  ...        0.000028        0.000062         0.978146     0.000081   \n",
       "334  ...        0.000027        0.000122         1.002590     0.000092   \n",
       "335  ...        0.000045        0.000059         0.993043     0.000101   \n",
       "336  ...        0.000030        0.000078         1.002590     0.000084   \n",
       "\n",
       "     yFmeanflxR7Err  yFmeanflxR7Std  yFmeanflxR7Fill    yFlags       yE1  \\\n",
       "0          0.000050        0.000228         0.944606    115000  0.040848   \n",
       "1          0.000060        0.000126         0.954221     16416 -0.674991   \n",
       "2          0.000044        0.000173         0.999416    114720 -0.228748   \n",
       "3          0.000050        0.000173         0.978018    115000  0.030204   \n",
       "4          0.000045        0.000233         0.939341     16696  0.007812   \n",
       "..              ...             ...              ...       ...       ...   \n",
       "332        0.000046        0.000152         1.000940     16416  0.688991   \n",
       "333        0.000045        0.000119         0.944615  16892472  0.022814   \n",
       "334        0.000044        0.000254         1.000940     16416  0.737931   \n",
       "335        0.000073        0.000155         0.996990     16416  4.831880   \n",
       "336        0.000048        0.000170         1.000940     16416  1.945060   \n",
       "\n",
       "          yE2  \n",
       "0   -0.054580  \n",
       "1   -0.421916  \n",
       "2    0.065698  \n",
       "3   -0.001084  \n",
       "4    0.717634  \n",
       "..        ...  \n",
       "332  1.810800  \n",
       "333 -0.079444  \n",
       "334 -0.470690  \n",
       "335 -6.771020  \n",
       "336  3.831240  \n",
       "\n",
       "[337 rows x 203 columns]>"
      ]
     },
     "execution_count": 41,
     "metadata": {},
     "output_type": "execute_result"
    }
   ],
   "source": [
    "psd = pd.read_csv('psd1.csv')\n",
    "sec = pd.read_csv('catalog_i.csv')\n",
    "\n"
   ]
  },
  {
   "cell_type": "code",
   "execution_count": 43,
   "id": "279484fc",
   "metadata": {},
   "outputs": [
    {
     "data": {
      "image/png": "[encoded data removed]",
      "text/plain": [
       "<Figure size 640x480 with 1 Axes>"
      ]
     },
     "metadata": {},
     "output_type": "display_data"
    }
   ],
   "source": [
    "panstarrs_mags = psd['inTotal']\n",
    "sextractor_mags = sec['MAG_AUTO'][:337]\n",
    "\n",
    "panstarrs_r_mags = psd['rnTotal']\n",
    "color_term = panstarrs_r_mags - panstarrs_mags\n",
    "\n",
    "\n",
    "A = np.vstack([sextractor_mags, color_term, np.ones_like(sextractor_mags)]).T\n",
    "coeffs, _, _, _ = np.linalg.lstsq(A, panstarrs_mags, rcond=None)\n",
    "ZP_i, c_i, _ = coeffs\n",
    "\n",
    "# Plot the results\n",
    "plt.scatter(sextractor_mags, panstarrs_mags, label='Data')\n",
    "plt.plot(sextractor_mags, ZP_i + c_i * color_term + sextractor_mags, label=f'Fit: ZP_i={ZP_i:.2f}, c_i={c_i:.2f}', color='red')\n",
    "plt.xlabel('i_inst (SExtractor Magnitude)')\n",
    "plt.ylabel('i_cal (Pan-STARRS Magnitude)')\n",
    "plt.legend()\n",
    "plt.show()"
   ]
  },
  {
   "cell_type": "code",
   "execution_count": null,
   "id": "bf9dafa6",
   "metadata": {},
   "outputs": [],
   "source": []
  }
 ],
 "metadata": {
  "kernelspec": {
   "display_name": "Python 3 (ipykernel)",
   "language": "python",
   "name": "python3"
  },
  "language_info": {
   "codemirror_mode": {
    "name": "ipython",
    "version": 3
   },
   "file_extension": ".py",
   "mimetype": "text/x-python",
   "name": "python",
   "nbconvert_exporter": "python",
   "pygments_lexer": "ipython3",
   "version": "3.10.8"
  }
 },
 "nbformat": 4,
 "nbformat_minor": 5
}
